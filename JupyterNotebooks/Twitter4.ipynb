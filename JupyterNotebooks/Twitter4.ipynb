{
 "cells": [
  {
   "cell_type": "code",
   "execution_count": 22,
   "metadata": {},
   "outputs": [
    {
     "name": "stdout",
     "output_type": "stream",
     "text": [
      "857 857 857 857 857 857 857 857\n"
     ]
    }
   ],
   "source": [
    "from pymongo import MongoClient\n",
    "import pandas as pd\n",
    "\n",
    "client = MongoClient()\n",
    "db = client.twitterCleanDb\n",
    "tweetCollection = db.tenKtweetsCleaned\n",
    "\n",
    "hashtags = []\n",
    "retweets = []\n",
    "followers = []\n",
    "name = []\n",
    "statusesCount = []\n",
    "text = []\n",
    "polarity = []\n",
    "lat = []\n",
    "long = []\n",
    "uid = []\n",
    "\n",
    "hashTagCollection = tweetCollection.find({'entities.hashtags.text': {'$ne': None}})\n",
    "\n",
    "for tweet in hashTagCollection:\n",
    "    if len(tweet['entities']['hashtags']) > 0:\n",
    "        hashtags.append(tweet['entities']['hashtags'][0]['text'])\n",
    "        retweets.append(tweet['retweet_count'])\n",
    "        followers.append(tweet['user']['followers_count'])\n",
    "#         lat.append(tweet['lat'])\n",
    "#         long.append(tweet['long'])\n",
    "        statusesCount.append(tweet['user']['statuses_count'])\n",
    "        text.append(tweet['text'])\n",
    "        polarity.append(tweet['polarity'])\n",
    "        name.append(tweet['user']['name'])\n",
    "        uid.append(tweet['id_str'])\n",
    "\n",
    "print (len(uid), len(name), len(polarity), len(text), len(statusesCount), len(followers), len(retweets), len(hashtags))"
   ]
  },
  {
   "cell_type": "code",
   "execution_count": 14,
   "metadata": {},
   "outputs": [
    {
     "data": {
      "text/plain": [
       "0"
      ]
     },
     "execution_count": 14,
     "metadata": {},
     "output_type": "execute_result"
    }
   ],
   "source": [
    "hashtags = []\n",
    "retweets = []\n",
    "followers = []\n",
    "name = []\n",
    "statusesCount = []\n",
    "text = []\n",
    "polarity = []\n",
    "lat = []\n",
    "long = []\n",
    "uid = []\n",
    "\n",
    "for tweet in hashTagCollection:\n",
    "    hashtags.append(tweeet['entities']['tweet'][0]['text'])\n",
    "    retweets.append(tweet['retweet_count'])\n",
    "    followers.append(tweet['user']['followers_count'])\n",
    "    lat.append(tweet['lat'])\n",
    "    long.append(tweet['long'])\n",
    "    statusesCount.append(tweet['statuses_count'])\n",
    "    text.append(tweet['text'])\n",
    "    polarity.append(tweet['polarity'])\n",
    "    name.append(tweet['user']['name'])\n",
    "    uid.append(tweet['id_str'])\n",
    "\n",
    "len(uid)\n"
   ]
  },
  {
   "cell_type": "code",
   "execution_count": 24,
   "metadata": {},
   "outputs": [
    {
     "data": {
      "text/html": [
       "<div>\n",
       "<style scoped>\n",
       "    .dataframe tbody tr th:only-of-type {\n",
       "        vertical-align: middle;\n",
       "    }\n",
       "\n",
       "    .dataframe tbody tr th {\n",
       "        vertical-align: top;\n",
       "    }\n",
       "\n",
       "    .dataframe thead th {\n",
       "        text-align: right;\n",
       "    }\n",
       "</style>\n",
       "<table border=\"1\" class=\"dataframe\">\n",
       "  <thead>\n",
       "    <tr style=\"text-align: right;\">\n",
       "      <th></th>\n",
       "      <th>followers</th>\n",
       "      <th>hashtag</th>\n",
       "      <th>id</th>\n",
       "      <th>name</th>\n",
       "      <th>polarity</th>\n",
       "      <th>retweets</th>\n",
       "      <th>statusCount</th>\n",
       "      <th>text</th>\n",
       "    </tr>\n",
       "  </thead>\n",
       "  <tbody>\n",
       "    <tr>\n",
       "      <th>0</th>\n",
       "      <td>321</td>\n",
       "      <td>OneDirectionReunion</td>\n",
       "      <td>985576840533331968</td>\n",
       "      <td>Emily loves zayn</td>\n",
       "      <td>0.285714</td>\n",
       "      <td>31</td>\n",
       "      <td>636</td>\n",
       "      <td>RT @softforavery: me right now #OneDirectionRe...</td>\n",
       "    </tr>\n",
       "    <tr>\n",
       "      <th>1</th>\n",
       "      <td>1687</td>\n",
       "      <td>CLFC</td>\n",
       "      <td>985576840445251584</td>\n",
       "      <td>Oyeniyi Bamz</td>\n",
       "      <td>0.000000</td>\n",
       "      <td>550</td>\n",
       "      <td>4518</td>\n",
       "      <td>RT @ChelseaLFC: What a result, we are in to th...</td>\n",
       "    </tr>\n",
       "    <tr>\n",
       "      <th>2</th>\n",
       "      <td>3833</td>\n",
       "      <td>PrisonComplaints</td>\n",
       "      <td>985576840441057280</td>\n",
       "      <td>PrisonStorm</td>\n",
       "      <td>0.200000</td>\n",
       "      <td>1</td>\n",
       "      <td>12150</td>\n",
       "      <td>Please get ready to move from Topic 1 #PrisonC...</td>\n",
       "    </tr>\n",
       "    <tr>\n",
       "      <th>3</th>\n",
       "      <td>89</td>\n",
       "      <td>SVWRBL</td>\n",
       "      <td>985576840256479234</td>\n",
       "      <td>Fredrik Kennefors</td>\n",
       "      <td>0.416667</td>\n",
       "      <td>6</td>\n",
       "      <td>32573</td>\n",
       "      <td>RT @Bundesliga_EN: A fine evening of football ...</td>\n",
       "    </tr>\n",
       "    <tr>\n",
       "      <th>4</th>\n",
       "      <td>283</td>\n",
       "      <td>NickiDay</td>\n",
       "      <td>985577236521738241</td>\n",
       "      <td>Jeremy Harrell</td>\n",
       "      <td>0.250000</td>\n",
       "      <td>3135</td>\n",
       "      <td>1200</td>\n",
       "      <td>RT @YoungboyUpdates: Youngboy on when he first...</td>\n",
       "    </tr>\n",
       "  </tbody>\n",
       "</table>\n",
       "</div>"
      ],
      "text/plain": [
       "   followers              hashtag                  id               name  \\\n",
       "0        321  OneDirectionReunion  985576840533331968   Emily loves zayn   \n",
       "1       1687                 CLFC  985576840445251584       Oyeniyi Bamz   \n",
       "2       3833     PrisonComplaints  985576840441057280        PrisonStorm   \n",
       "3         89               SVWRBL  985576840256479234  Fredrik Kennefors   \n",
       "4        283             NickiDay  985577236521738241     Jeremy Harrell   \n",
       "\n",
       "   polarity  retweets  statusCount  \\\n",
       "0  0.285714        31          636   \n",
       "1  0.000000       550         4518   \n",
       "2  0.200000         1        12150   \n",
       "3  0.416667         6        32573   \n",
       "4  0.250000      3135         1200   \n",
       "\n",
       "                                                text  \n",
       "0  RT @softforavery: me right now #OneDirectionRe...  \n",
       "1  RT @ChelseaLFC: What a result, we are in to th...  \n",
       "2  Please get ready to move from Topic 1 #PrisonC...  \n",
       "3  RT @Bundesliga_EN: A fine evening of football ...  \n",
       "4  RT @YoungboyUpdates: Youngboy on when he first...  "
      ]
     },
     "execution_count": 24,
     "metadata": {},
     "output_type": "execute_result"
    }
   ],
   "source": [
    "import pandas as pd\n",
    "\n",
    "df = pd.DataFrame({'id': uid, 'name': name, 'retweets': retweets, 'hashtag': hashtags, 'followers': followers, 'statusCount': statusesCount, 'text': text, 'polarity': polarity})\n",
    "df.to_j()"
   ]
  }
 ],
 "metadata": {
  "kernelspec": {
   "display_name": "Python 3",
   "language": "python",
   "name": "python3"
  },
  "language_info": {
   "codemirror_mode": {
    "name": "ipython",
    "version": 3
   },
   "file_extension": ".py",
   "mimetype": "text/x-python",
   "name": "python",
   "nbconvert_exporter": "python",
   "pygments_lexer": "ipython3",
   "version": "3.5.2"
  }
 },
 "nbformat": 4,
 "nbformat_minor": 2
}
