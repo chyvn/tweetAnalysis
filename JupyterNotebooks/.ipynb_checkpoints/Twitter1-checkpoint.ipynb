{
 "cells": [
  {
   "cell_type": "code",
   "execution_count": 2,
   "metadata": {},
   "outputs": [],
   "source": [
    "import tweepy\n",
    "from tweepy import OAuthHandler\n",
    "\n",
    "customer_key = \"***\"\n",
    "customer_secret = \"***\"\n",
    "access_token = \"***\"\n",
    "access_secret = \"***\"\n",
    "\n",
    "auth = OAuthHandler(customer_key, customer_secret)\n",
    "auth.set_access_token(access_token, access_secret)\n",
    "\n",
    "api = tweepy.API(auth)"
   ]
  },
  {
   "cell_type": "code",
   "execution_count": 4,
   "metadata": {},
   "outputs": [],
   "source": [
    "from pymongo import MongoClient\n",
    "client = MongoClient()\n",
    "db = client.twitterDb\n",
    "posts = db.modiPosts"
   ]
  },
  {
   "cell_type": "code",
   "execution_count": 24,
   "metadata": {},
   "outputs": [],
   "source": [
    "import json\n",
    "tweets = api.search(q = \"#modi\", count = 100)\n",
    "for tweet in tweets:\n",
    "    posts.insert_one(tweet._json)"
   ]
  },
  {
   "cell_type": "code",
   "execution_count": 24,
   "metadata": {},
   "outputs": [],
   "source": [
    "posts = db.tenKtweets\n",
    "tweets = api.search(q = \"place:b850c1bfd38f30e0\", count = 500)\n",
    "for tweet in tweets:\n",
    "    posts.insert_one(tweet._json)"
   ]
  },
  {
   "cell_type": "code",
   "execution_count": 30,
   "metadata": {},
   "outputs": [],
   "source": [
    "posts = db.commonwealth\n",
    "tweets = api.search(q = \"#kathua\", count = 200)\n",
    "for tweet in tweets:\n",
    "    posts.insert_one(tweet._json)"
   ]
  },
  {
   "cell_type": "code",
   "execution_count": 31,
   "metadata": {},
   "outputs": [],
   "source": [
    "posts = db.music\n",
    "tweets = api.search(q = \"#music\", count = 200)\n",
    "for tweet in tweets:\n",
    "    posts.insert_one(tweet._json)"
   ]
  },
  {
   "cell_type": "code",
   "execution_count": 22,
   "metadata": {},
   "outputs": [
    {
     "name": "stdout",
     "output_type": "stream",
     "text": [
      "b850c1bfd38f30e0\n"
     ]
    }
   ],
   "source": [
    "place = api.geo_search(query = \"India\", granularity = 'country')\n",
    "print(place[0].id)"
   ]
  }
 ],
 "metadata": {
  "kernelspec": {
   "display_name": "Python 2",
   "language": "python",
   "name": "python2"
  },
  "language_info": {
   "codemirror_mode": {
    "name": "ipython",
    "version": 3
   },
   "file_extension": ".py",
   "mimetype": "text/x-python",
   "name": "python",
   "nbconvert_exporter": "python",
   "pygments_lexer": "ipython3",
   "version": "3.5.2"
  }
 },
 "nbformat": 4,
 "nbformat_minor": 2
}
