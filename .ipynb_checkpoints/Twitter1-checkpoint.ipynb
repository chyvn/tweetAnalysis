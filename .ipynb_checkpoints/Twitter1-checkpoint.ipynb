{
 "cells": [
  {
   "cell_type": "code",
   "execution_count": 1,
   "metadata": {},
   "outputs": [
    {
     "name": "stdout",
     "output_type": "stream",
     "text": [
      "Collecting tweepy\n",
      "  Downloading tweepy-3.6.0-py2.py3-none-any.whl\n",
      "Requirement already satisfied: requests>=2.11.1 in c:\\users\\chyvn\\anaconda3\\lib\\site-packages (from tweepy)\n",
      "Requirement already satisfied: six>=1.10.0 in c:\\users\\chyvn\\anaconda3\\lib\\site-packages (from tweepy)\n",
      "Requirement already satisfied: PySocks>=1.5.7 in c:\\users\\chyvn\\anaconda3\\lib\\site-packages (from tweepy)\n",
      "Collecting requests-oauthlib>=0.7.0 (from tweepy)\n",
      "  Downloading requests_oauthlib-0.8.0-py2.py3-none-any.whl\n",
      "Requirement already satisfied: chardet<3.1.0,>=3.0.2 in c:\\users\\chyvn\\anaconda3\\lib\\site-packages (from requests>=2.11.1->tweepy)\n",
      "Requirement already satisfied: idna<2.7,>=2.5 in c:\\users\\chyvn\\anaconda3\\lib\\site-packages (from requests>=2.11.1->tweepy)\n",
      "Requirement already satisfied: urllib3<1.23,>=1.21.1 in c:\\users\\chyvn\\anaconda3\\lib\\site-packages (from requests>=2.11.1->tweepy)\n",
      "Requirement already satisfied: certifi>=2017.4.17 in c:\\users\\chyvn\\anaconda3\\lib\\site-packages (from requests>=2.11.1->tweepy)\n",
      "Collecting oauthlib>=0.6.2 (from requests-oauthlib>=0.7.0->tweepy)\n",
      "  Downloading oauthlib-2.0.7-py2.py3-none-any.whl (124kB)\n",
      "Installing collected packages: oauthlib, requests-oauthlib, tweepy\n",
      "Successfully installed oauthlib-2.0.7 requests-oauthlib-0.8.0 tweepy-3.6.0\n"
     ]
    },
    {
     "name": "stderr",
     "output_type": "stream",
     "text": [
      "You are using pip version 9.0.1, however version 9.0.3 is available.\n",
      "You should consider upgrading via the 'python -m pip install --upgrade pip' command.\n"
     ]
    }
   ],
   "source": [
    "!pip install tweepy"
   ]
  },
  {
   "cell_type": "code",
   "execution_count": 19,
   "metadata": {},
   "outputs": [],
   "source": [
    "import tweepy\n",
    "from tweepy import OAuthHandler\n",
    "\n",
    "customer_key = \"QneeoaNyVpnR0TTbPZbVZrQAD\"\n",
    "customer_secret = \"QObDAXLP8uIhmhTvcb2lmQDj15RrS1JDcjZR65LX08oL0OEmdU\"\n",
    "access_token = \"985031295666356224-Qkpu2qcApK1d9H5jj6sHe51zAj7h1wv\"\n",
    "access_secret = \"48jrWQJvCICEesw8c93LqmUNCNtMoRliiBpJB5BCj1SHO\"\n",
    "\n",
    "auth = OAuthHandler(customer_key, customer_secret)\n",
    "auth.set_access_token(access_token, access_secret)\n",
    "\n",
    "api = tweepy.API(auth)"
   ]
  },
  {
   "cell_type": "code",
   "execution_count": 16,
   "metadata": {},
   "outputs": [],
   "source": [
    "from pymongo import MongoClient\n",
    "client = MongoClient()\n",
    "db = client.twitterDb\n",
    "posts = db.modiPosts"
   ]
  },
  {
   "cell_type": "code",
   "execution_count": 24,
   "metadata": {},
   "outputs": [],
   "source": [
    "import json\n",
    "tweets = api.search(q = \"#modi\", count = 100)\n",
    "for tweet in tweets:\n",
    "    posts.insert_one(tweet._json)"
   ]
  },
  {
   "cell_type": "code",
   "execution_count": 27,
   "metadata": {},
   "outputs": [],
   "source": [
    "posts = db.zurkerbergposts\n",
    "tweets = api.search(q = \"#fb\", count = 200)\n",
    "for tweet in tweets:\n",
    "    posts.insert_one(tweet._json)"
   ]
  }
 ],
 "metadata": {
  "kernelspec": {
   "display_name": "Python 2",
   "language": "python",
   "name": "python2"
  },
  "language_info": {
   "codemirror_mode": {
    "name": "ipython",
    "version": 2
   },
   "file_extension": ".py",
   "mimetype": "text/x-python",
   "name": "python",
   "nbconvert_exporter": "python",
   "pygments_lexer": "ipython2",
   "version": "2.7.12"
  }
 },
 "nbformat": 4,
 "nbformat_minor": 2
}
