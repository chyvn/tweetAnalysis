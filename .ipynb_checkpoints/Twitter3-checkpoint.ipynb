{
 "cells": [
  {
   "cell_type": "code",
   "execution_count": null,
   "metadata": {
    "scrolled": true
   },
   "outputs": [],
   "source": [
    "import matplotlib.pyplot as plt\n",
    "import seaborn as sns\n",
    "import numpy as np\n",
    "import pandas as pd\n",
    "from pymongo import MongoClient\n",
    "\n",
    "client = MongoClient()\n",
    "db = client.twitterCleanDb\n",
    "tweetCollection = db.tweets\n",
    "\n",
    "times = []\n",
    "polarities = []\n",
    "subjectivities = []\n",
    "locations = []\n",
    "modiTweets = tweetCollection.find({'cleantest' :{'$regex': '.*modi*.'}})\n",
    "for tweet in modiTweets:\n",
    "    times.append(tweet['created_at'])\n",
    "    polarities.append(tweet['polarity'])\n",
    "    subjectivities.append(tweet['subjectivity'])\n",
    "    print(tweet['user.location'])\n",
    "    latlong = locate.geocode(tweet['user']['location'])\n",
    "    if latlong is None:\n",
    "        latlong = locate.geocode(tweet['user']['time_zone'])\n",
    "        if latlong is None:\n",
    "            locations.append(None)\n",
    "    else:\n",
    "        locations.append([latlong.latitude, latlong.longitude])\n",
    "\n",
    "print(len(locations))\n"
   ]
  },
  {
   "cell_type": "code",
   "execution_count": 15,
   "metadata": {},
   "outputs": [
    {
     "name": "stdout",
     "output_type": "stream",
     "text": [
      "44 44 44\n"
     ]
    }
   ],
   "source": [
    "\n",
    "print(len(times), len(polarities), len(subjectivities))"
   ]
  },
  {
   "cell_type": "code",
   "execution_count": 54,
   "metadata": {},
   "outputs": [
    {
     "name": "stdout",
     "output_type": "stream",
     "text": [
      "<pymongo.cursor.Cursor object at 0x7f724a05a4e0>\n"
     ]
    }
   ],
   "source": [
    "print(modiTweets)"
   ]
  },
  {
   "cell_type": "code",
   "execution_count": 40,
   "metadata": {},
   "outputs": [
    {
     "data": {
      "text/plain": [
       "polarity                    float64\n",
       "subjectivity                float64\n",
       "time            datetime64[ns, UTC]\n",
       "dtype: object"
      ]
     },
     "execution_count": 40,
     "metadata": {},
     "output_type": "execute_result"
    }
   ],
   "source": [
    "import dateutil\n",
    "df = pd.DataFrame({'time':times, 'polarity': polarities, 'subjectivity': subjectivities})\n",
    "df = df.sort_values(by=['time'])\n",
    "df['time'] = df['time'].apply(dateutil.parser.parse)\n",
    "df.dtypes"
   ]
  },
  {
   "cell_type": "code",
   "execution_count": 42,
   "metadata": {},
   "outputs": [
    {
     "data": {
      "text/plain": [
       "Text(0,0.5,'Sentiment Value')"
      ]
     },
     "execution_count": 42,
     "metadata": {},
     "output_type": "execute_result"
    },
    {
     "data": {
      "image/png": "[encoded data removed]",
      "text/plain": [
       "<Figure size 432x288 with 1 Axes>"
      ]
     },
     "metadata": {},
     "output_type": "display_data"
    }
   ],
   "source": [
    "plt.figure()\n",
    "\n",
    "plt.title('Sentiment Comparision')\n",
    "plt.plot(df['time'], df['polarity'])\n",
    "plt.plot(df['time'], df['subjectivity'])\n",
    "\n",
    "plt.xlabel('Time')\n",
    "plt.ylabel('Sentiment Value')\n",
    "\n"
   ]
  },
  {
   "cell_type": "code",
   "execution_count": 43,
   "metadata": {},
   "outputs": [
    {
     "name": "stdout",
     "output_type": "stream",
     "text": [
      "Collecting geopy\n",
      "  Downloading geopy-1.13.0-py2.py3-none-any.whl (73kB)\n",
      "\u001b[K    100% |████████████████████████████████| 81kB 119kB/s ta 0:00:011\n",
      "\u001b[?25hCollecting geographiclib<2,>=1.49 (from geopy)\n",
      "  Downloading geographiclib-1.49.tar.gz\n",
      "Building wheels for collected packages: geographiclib\n",
      "  Running setup.py bdist_wheel for geographiclib ... \u001b[?25ldone\n",
      "\u001b[?25h  Stored in directory: /home/chyn/.cache/pip/wheels/b8/62/be/6d9fad7c30605b3a876cdf509d411a64a43f3e8a99381a40dd\n",
      "Successfully built geographiclib\n",
      "Installing collected packages: geographiclib, geopy\n",
      "Successfully installed geographiclib-1.49 geopy-1.13.0\n",
      "\u001b[33mYou are using pip version 8.1.1, however version 9.0.3 is available.\n",
      "You should consider upgrading via the 'pip install --upgrade pip' command.\u001b[0m\n"
     ]
    }
   ],
   "source": [
    "!pip3 install geopy"
   ]
  },
  {
   "cell_type": "code",
   "execution_count": 47,
   "metadata": {},
   "outputs": [
    {
     "name": "stdout",
     "output_type": "stream",
     "text": [
      "nothing\n"
     ]
    }
   ],
   "source": [
    "from geopy.geocoders import Nominatim\n",
    "\n",
    "locate = Nominatim()\n",
    "latlong = locate.geocode('First Islamic Nuclear State')\n",
    "if latlong is None:\n",
    "    print('nothing')\n",
    "else:\n",
    "    print(latlong.latitude, latlong.longitude)"
   ]
  },
  {
   "cell_type": "code",
   "execution_count": 58,
   "metadata": {},
   "outputs": [],
   "source": [
    "locations = []\n",
    "for tweet in modiTweets:\n",
    "    print(tweet)\n",
    "    "
   ]
  },
  {
   "cell_type": "code",
   "execution_count": 50,
   "metadata": {},
   "outputs": [
    {
     "name": "stdout",
     "output_type": "stream",
     "text": [
      "[]\n"
     ]
    }
   ],
   "source": [
    "print(locations)"
   ]
  }
 ],
 "metadata": {
  "kernelspec": {
   "display_name": "Python 3",
   "language": "python",
   "name": "python3"
  },
  "language_info": {
   "codemirror_mode": {
    "name": "ipython",
    "version": 3
   },
   "file_extension": ".py",
   "mimetype": "text/x-python",
   "name": "python",
   "nbconvert_exporter": "python",
   "pygments_lexer": "ipython3",
   "version": "3.5.2"
  }
 },
 "nbformat": 4,
 "nbformat_minor": 2
}
